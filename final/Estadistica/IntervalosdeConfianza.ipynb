{
 "cells": [
  {
   "cell_type": "markdown",
   "metadata": {},
   "source": [
    "##### Aldo Daniel Villaseñor Fierro\n",
    "##### A01637907"
   ]
  },
  {
   "cell_type": "markdown",
   "metadata": {},
   "source": [
    "#### Suponga que la porosidad al helio (en porcentaje) de muestras de carbón, tomadas de cualquier veta en particular, está normalmente distribuida con una desviación estándar verdadera de 0.75. Se sabe que 10 años atrás la porosidad media de helio en la veta era de 5.3 y se tiene interés en saber si actualmente ha disminuido. Se toma una muestra al azar de 20 especímenes y su promedio resulta de 4.85. \n"
   ]
  },
  {
   "cell_type": "markdown",
   "metadata": {},
   "source": [
    "##### a) Haga una estimación por intervalo con una confianza del 97% para el promedio de porosidad para evaluar si ha disminuido. "
   ]
  },
  {
   "cell_type": "code",
   "execution_count": 37,
   "metadata": {},
   "outputs": [],
   "source": [
    "import scipy.stats as stats\n",
    "import math\n",
    "import pandas as pd\n",
    "import numpy as np\n",
    "import matplotlib.pyplot as plt"
   ]
  },
  {
   "cell_type": "code",
   "execution_count": 38,
   "metadata": {},
   "outputs": [
    {
     "name": "stdout",
     "output_type": "stream",
     "text": [
      "Intervalo de confianza para la primera muestra: (4.486064779880205, 5.213935220119795)\n"
     ]
    }
   ],
   "source": [
    "# Datos del problema\n",
    "media_muestra1 = 4.85\n",
    "desviacion_estandar_verdadera = 0.75\n",
    "tamano_muestra1 = 20\n",
    "nivel_confianza = 0.97\n",
    "valor_critico = stats.norm.ppf(1 - (1 - nivel_confianza) / 2)  # Valor Z correspondiente\n",
    "\n",
    "# Calculando el intervalo de confianza para la primera muestra\n",
    "error_estandar = desviacion_estandar_verdadera / math.sqrt(tamano_muestra1)\n",
    "intervalo_confianza1 = (media_muestra1 - valor_critico * error_estandar, media_muestra1 + valor_critico * error_estandar)\n",
    "\n",
    "print(\"Intervalo de confianza para la primera muestra:\", intervalo_confianza1)\n",
    "\n"
   ]
  },
  {
   "cell_type": "markdown",
   "metadata": {},
   "source": [
    "##### b) Se toma otra muestra de tamaño 16. El promedio de la muestra fue de 4.56. Calcule el intervalo de confianza al 97% de confianza"
   ]
  },
  {
   "cell_type": "code",
   "execution_count": 39,
   "metadata": {},
   "outputs": [
    {
     "name": "stdout",
     "output_type": "stream",
     "text": [
      "Intervalo de confianza para la segunda muestra: (4.153108054202894, 4.966891945797105)\n"
     ]
    }
   ],
   "source": [
    "# Datos de la segunda muestra\n",
    "media_muestra2 = 4.56\n",
    "tamano_muestra2 = 16\n",
    "\n",
    "# Calculando el intervalo de confianza para la segunda muestra\n",
    "error_estandar2 = desviacion_estandar_verdadera / math.sqrt(tamano_muestra2)\n",
    "intervalo_confianza2 = (media_muestra2 - valor_critico * error_estandar2, media_muestra2 + valor_critico * error_estandar2)\n",
    "\n",
    "print(\"Intervalo de confianza para la segunda muestra:\", intervalo_confianza2)"
   ]
  },
  {
   "cell_type": "markdown",
   "metadata": {},
   "source": [
    "##### c) ¿Podemos afirmar que la porosidad del helio ha disminuido? El misterioso Helio\n"
   ]
  },
  {
   "cell_type": "code",
   "execution_count": 40,
   "metadata": {},
   "outputs": [
    {
     "name": "stdout",
     "output_type": "stream",
     "text": [
      "No podemos afirmar que la porosidad del helio ha disminuido.\n"
     ]
    }
   ],
   "source": [
    "# Comparación de intervalos para evaluar si la porosidad ha disminuido\n",
    "if intervalo_confianza1[0] > intervalo_confianza2[1] or intervalo_confianza2[0] > intervalo_confianza1[1]:\n",
    "    print(\"Podemos afirmar que la porosidad del helio ha disminuido.\")\n",
    "else:\n",
    "    print(\"No podemos afirmar que la porosidad del helio ha disminuido.\")"
   ]
  },
  {
   "cell_type": "markdown",
   "metadata": {},
   "source": [
    "#### Suponga que la porosidad al helio (en porcentaje) de muestras de carbón, tomadas de cualquier veta en particular, está normalmente distribuida con una desviación estándar verdadera de 0.75."
   ]
  },
  {
   "cell_type": "markdown",
   "metadata": {},
   "source": [
    "##### a) ¿Qué tan grande tiene que ser el tamaño de la muestra si se desea que el ancho del intervalo con un 95% de confianza no sobrepase de 0.4?"
   ]
  },
  {
   "cell_type": "code",
   "execution_count": 41,
   "metadata": {},
   "outputs": [
    {
     "name": "stdout",
     "output_type": "stream",
     "text": [
      "El tamaño de muestra necesario para el ancho de intervalo de 0.4 con 95% de confianza: 55\n"
     ]
    }
   ],
   "source": [
    "# Datos del problema\n",
    "desviacion_estandar_verdadera = 0.75\n",
    "\n",
    "# a) Determinar el tamaño de muestra para un ancho de intervalo de 0.4 con 95% de confianza\n",
    "nivel_confianza_a = 0.95\n",
    "ancho_deseado_a = 0.4/2\n",
    "valor_critico_a = stats.norm.ppf(1 - (1 - nivel_confianza_a) / 2)\n",
    "\n",
    "# Solución para a)\n",
    "tamanio_muestra_a = math.ceil((valor_critico_a * desviacion_estandar_verdadera / ancho_deseado_a) ** 2)\n",
    "print(\"El tamaño de muestra necesario para el ancho de intervalo de 0.4 con 95% de confianza:\", tamanio_muestra_a)"
   ]
  },
  {
   "cell_type": "markdown",
   "metadata": {},
   "source": [
    "##### b) ¿Qué tamaño de muestra necesita para estimar la porosidad promedio verdadera dentro de 0.2 unidades alrededor de la media muestral con una confianza de 99%?"
   ]
  },
  {
   "cell_type": "code",
   "execution_count": 42,
   "metadata": {},
   "outputs": [
    {
     "name": "stdout",
     "output_type": "stream",
     "text": [
      "El tamaño de muestra necesario para el ancho de intervalo de 0.2 con 99% de confianza: 94\n"
     ]
    }
   ],
   "source": [
    "# b) Determinar el tamaño de muestra para un ancho de intervalo de 0.2 con 99% de confianza\n",
    "nivel_confianza_b = 0.99\n",
    "ancho_deseado_b = 0.2\n",
    "valor_critico_b = stats.norm.ppf(1 - (1 - nivel_confianza_b) / 2)\n",
    "\n",
    "# Solución para b)\n",
    "tamanio_muestra_b = math.ceil((valor_critico_b * desviacion_estandar_verdadera / ancho_deseado_b) ** 2)\n",
    "print(\"El tamaño de muestra necesario para el ancho de intervalo de 0.2 con 99% de confianza:\", tamanio_muestra_b)"
   ]
  },
  {
   "cell_type": "markdown",
   "metadata": {},
   "source": [
    "#### 3. Grafica los intervalos. En un gráfico la intensidad de pulso con y sin marcapasos y en otro gráfico el periodo entre pulso con y sin marcapasos. Interpreta el resultado."
   ]
  },
  {
   "cell_type": "code",
   "execution_count": 43,
   "metadata": {},
   "outputs": [
    {
     "data": {
      "text/html": [
       "<div>\n",
       "<style scoped>\n",
       "    .dataframe tbody tr th:only-of-type {\n",
       "        vertical-align: middle;\n",
       "    }\n",
       "\n",
       "    .dataframe tbody tr th {\n",
       "        vertical-align: top;\n",
       "    }\n",
       "\n",
       "    .dataframe thead th {\n",
       "        text-align: right;\n",
       "    }\n",
       "</style>\n",
       "<table border=\"1\" class=\"dataframe\">\n",
       "  <thead>\n",
       "    <tr style=\"text-align: right;\">\n",
       "      <th></th>\n",
       "      <th>Periodo entre pulsos</th>\n",
       "      <th>Intensidad de pulso</th>\n",
       "      <th>Marcapasos</th>\n",
       "    </tr>\n",
       "  </thead>\n",
       "  <tbody>\n",
       "    <tr>\n",
       "      <th>0</th>\n",
       "      <td>1.20</td>\n",
       "      <td>0.131</td>\n",
       "      <td>Sin MP</td>\n",
       "    </tr>\n",
       "    <tr>\n",
       "      <th>1</th>\n",
       "      <td>0.90</td>\n",
       "      <td>0.303</td>\n",
       "      <td>Sin MP</td>\n",
       "    </tr>\n",
       "    <tr>\n",
       "      <th>2</th>\n",
       "      <td>0.90</td>\n",
       "      <td>0.297</td>\n",
       "      <td>Sin MP</td>\n",
       "    </tr>\n",
       "    <tr>\n",
       "      <th>3</th>\n",
       "      <td>0.80</td>\n",
       "      <td>0.416</td>\n",
       "      <td>Sin MP</td>\n",
       "    </tr>\n",
       "    <tr>\n",
       "      <th>4</th>\n",
       "      <td>0.70</td>\n",
       "      <td>0.585</td>\n",
       "      <td>Sin MP</td>\n",
       "    </tr>\n",
       "    <tr>\n",
       "      <th>...</th>\n",
       "      <td>...</td>\n",
       "      <td>...</td>\n",
       "      <td>...</td>\n",
       "    </tr>\n",
       "    <tr>\n",
       "      <th>97</th>\n",
       "      <td>0.81</td>\n",
       "      <td>0.298</td>\n",
       "      <td>Con MP</td>\n",
       "    </tr>\n",
       "    <tr>\n",
       "      <th>98</th>\n",
       "      <td>0.93</td>\n",
       "      <td>0.143</td>\n",
       "      <td>Con MP</td>\n",
       "    </tr>\n",
       "    <tr>\n",
       "      <th>99</th>\n",
       "      <td>1.04</td>\n",
       "      <td>0.019</td>\n",
       "      <td>Con MP</td>\n",
       "    </tr>\n",
       "    <tr>\n",
       "      <th>100</th>\n",
       "      <td>1.06</td>\n",
       "      <td>0.006</td>\n",
       "      <td>Con MP</td>\n",
       "    </tr>\n",
       "    <tr>\n",
       "      <th>101</th>\n",
       "      <td>1.07</td>\n",
       "      <td>0.005</td>\n",
       "      <td>Con MP</td>\n",
       "    </tr>\n",
       "  </tbody>\n",
       "</table>\n",
       "<p>102 rows × 3 columns</p>\n",
       "</div>"
      ],
      "text/plain": [
       "     Periodo entre pulsos  Intensidad de pulso Marcapasos\n",
       "0                    1.20                0.131     Sin MP\n",
       "1                    0.90                0.303     Sin MP\n",
       "2                    0.90                0.297     Sin MP\n",
       "3                    0.80                0.416     Sin MP\n",
       "4                    0.70                0.585     Sin MP\n",
       "..                    ...                  ...        ...\n",
       "97                   0.81                0.298     Con MP\n",
       "98                   0.93                0.143     Con MP\n",
       "99                   1.04                0.019     Con MP\n",
       "100                  1.06                0.006     Con MP\n",
       "101                  1.07                0.005     Con MP\n",
       "\n",
       "[102 rows x 3 columns]"
      ]
     },
     "execution_count": 43,
     "metadata": {},
     "output_type": "execute_result"
    }
   ],
   "source": [
    "df=pd.read_csv('El marcapasos.csv',encoding = 'unicode_escape', engine ='python')\n",
    "df_con = df[df['Marcapasos']=='Con MP']\n",
    "df_sin = df[df['Marcapasos']=='Sin MP']\n",
    "df"
   ]
  },
  {
   "cell_type": "markdown",
   "metadata": {},
   "source": [
    "#### Intervalo de confianza al 95% para media de Periodo entre pulsos e Intensidad de pulso para grupo sin marcapasos"
   ]
  },
  {
   "cell_type": "code",
   "execution_count": 44,
   "metadata": {},
   "outputs": [],
   "source": [
    "# Intervalos de confianza para la media\n",
    "nivel_confianza = 0.95\n",
    "valor_critico = stats.t.ppf(1 - (1 - nivel_confianza) / 2, len(df_sin) - 1)"
   ]
  },
  {
   "cell_type": "code",
   "execution_count": 45,
   "metadata": {},
   "outputs": [],
   "source": [
    "intervalo_conf=[(df_sin['Periodo entre pulsos'].mean()-valor_critico*(df_sin['Periodo entre pulsos'].std())),\n",
    "                (df_sin['Periodo entre pulsos'].mean()+valor_critico*(df_sin['Periodo entre pulsos'].std()))]#/np.sqrt(len(df_sin)))"
   ]
  },
  {
   "cell_type": "code",
   "execution_count": 46,
   "metadata": {},
   "outputs": [
    {
     "data": {
      "image/png": "[encoded data removed]",
      "text/plain": [
       "<Figure size 648x288 with 1 Axes>"
      ]
     },
     "metadata": {
      "needs_background": "light"
     },
     "output_type": "display_data"
    }
   ],
   "source": [
    "x = np.linspace(0,2.2,100)\n",
    "inter= intervalo_conf[0]\n",
    "inter_inf= intervalo_conf[1]\n",
    "serie=df_sin['Periodo entre pulsos']\n",
    "y = stats.norm.pdf(x, np.mean(serie), np.std(serie))\n",
    "plt.figure(figsize=(9, 4))\n",
    "plt.plot(x, y, color='blue', label='Normal Distribution')\n",
    "plt.xlabel('Value')\n",
    "plt.ylabel('Probability Density')\n",
    "plt.title('Periodo entre pulsos sin marcapasos')\n",
    "plt.axvline(x=inter, color=\"red\")\n",
    "plt.axvline(x=inter_inf, color=\"red\")\n",
    "plt.show()"
   ]
  },
  {
   "cell_type": "code",
   "execution_count": 47,
   "metadata": {},
   "outputs": [],
   "source": [
    "intervalo_conf=[(df_sin['Intensidad de pulso'].mean()-valor_critico*(df_sin['Intensidad de pulso'].std())),\n",
    "                (df_sin['Intensidad de pulso'].mean()+valor_critico*(df_sin['Intensidad de pulso'].std()))]#/np.sqrt(len(df_sin)))"
   ]
  },
  {
   "cell_type": "code",
   "execution_count": 48,
   "metadata": {},
   "outputs": [
    {
     "data": {
      "image/png": "[encoded data removed]",
      "text/plain": [
       "<Figure size 648x288 with 1 Axes>"
      ]
     },
     "metadata": {
      "needs_background": "light"
     },
     "output_type": "display_data"
    }
   ],
   "source": [
    "x = np.linspace(-0.2,0.6,100)\n",
    "inter= intervalo_conf[0]\n",
    "inter_inf= intervalo_conf[1]\n",
    "serie=df_sin['Intensidad de pulso']\n",
    "y = stats.norm.pdf(x, np.mean(serie), np.std(serie))\n",
    "plt.figure(figsize=(9, 4))\n",
    "plt.plot(x, y, color='blue', label='Normal Distribution')\n",
    "plt.xlabel('Value')\n",
    "plt.ylabel('Probability Density')\n",
    "plt.title('Intensidad de pulso sin marcapasos')\n",
    "plt.axvline(x=inter, color=\"red\")\n",
    "plt.axvline(x=inter_inf, color=\"red\")\n",
    "plt.show()"
   ]
  },
  {
   "cell_type": "markdown",
   "metadata": {},
   "source": [
    "#### Intervalo de confianza al 95% para media de Periodo entre pulsos e Intensidad de pulso para grupo con marcapasos"
   ]
  },
  {
   "cell_type": "code",
   "execution_count": 49,
   "metadata": {},
   "outputs": [],
   "source": [
    "intervalo_conf=[(df_con['Periodo entre pulsos'].mean()-valor_critico*(df_con['Periodo entre pulsos'].std())),\n",
    "                (df_con['Periodo entre pulsos'].mean()+valor_critico*(df_con['Periodo entre pulsos'].std()))]#/np.sqrt(len(df_sin)))"
   ]
  },
  {
   "cell_type": "code",
   "execution_count": 50,
   "metadata": {},
   "outputs": [
    {
     "data": {
      "image/png": "[encoded data removed]",
      "text/plain": [
       "<Figure size 648x288 with 1 Axes>"
      ]
     },
     "metadata": {
      "needs_background": "light"
     },
     "output_type": "display_data"
    }
   ],
   "source": [
    "x = np.linspace(0.55,1.2,100)\n",
    "inter= intervalo_conf[0]\n",
    "inter_inf= intervalo_conf[1]\n",
    "serie=df_con['Periodo entre pulsos']\n",
    "y = stats.norm.pdf(x, np.mean(serie), np.std(serie))\n",
    "plt.figure(figsize=(9, 4))\n",
    "plt.plot(x, y, color='blue', label='Normal Distribution')\n",
    "plt.xlabel('Value')\n",
    "plt.ylabel('Probability Density')\n",
    "plt.title('Periodo entre pulsos con marcapasos')\n",
    "plt.axvline(x=inter, color=\"red\")\n",
    "plt.axvline(x=inter_inf, color=\"red\")\n",
    "plt.show()"
   ]
  },
  {
   "cell_type": "code",
   "execution_count": 51,
   "metadata": {},
   "outputs": [],
   "source": [
    "intervalo_conf=[(df_con['Intensidad de pulso'].mean()-valor_critico*(df_con['Intensidad de pulso'].std())),\n",
    "                (df_con['Intensidad de pulso'].mean()+valor_critico*(df_con['Intensidad de pulso'].std()))]#/np.sqrt(len(df_sin)))"
   ]
  },
  {
   "cell_type": "code",
   "execution_count": 53,
   "metadata": {},
   "outputs": [
    {
     "data": {
      "image/png": "[encoded data removed]",
      "text/plain": [
       "<Figure size 648x288 with 1 Axes>"
      ]
     },
     "metadata": {
      "needs_background": "light"
     },
     "output_type": "display_data"
    }
   ],
   "source": [
    "x = np.linspace(-0.2,0.6,100)\n",
    "inter= intervalo_conf[0]\n",
    "inter_inf= intervalo_conf[1]\n",
    "serie=df_con['Intensidad de pulso']\n",
    "y = stats.norm.pdf(x, np.mean(serie), np.std(serie))\n",
    "plt.figure(figsize=(9, 4))\n",
    "plt.plot(x, y, color='blue', label='Normal Distribution')\n",
    "plt.xlabel('Value')\n",
    "plt.ylabel('Probability Density')\n",
    "plt.title('Intensidad de pulso con marcapasos')\n",
    "plt.axvline(x=inter, color=\"red\")\n",
    "plt.axvline(x=inter_inf, color=\"red\")\n",
    "plt.show()"
   ]
  },
  {
   "cell_type": "code",
   "execution_count": null,
   "metadata": {},
   "outputs": [],
   "source": []
  }
 ],
 "metadata": {
  "kernelspec": {
   "display_name": "tensorflow_env",
   "language": "python",
   "name": "python3"
  },
  "language_info": {
   "codemirror_mode": {
    "name": "ipython",
    "version": 3
   },
   "file_extension": ".py",
   "mimetype": "text/x-python",
   "name": "python",
   "nbconvert_exporter": "python",
   "pygments_lexer": "ipython3",
   "version": "3.10.4"
  },
  "orig_nbformat": 4
 },
 "nbformat": 4,
 "nbformat_minor": 2
}
